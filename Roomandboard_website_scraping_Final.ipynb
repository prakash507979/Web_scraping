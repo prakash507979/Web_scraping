{
 "cells": [
  {
   "cell_type": "code",
   "execution_count": 21,
   "metadata": {},
   "outputs": [],
   "source": [
    "from bs4 import BeautifulSoup as soup\n",
    "from urllib.request import urlopen as uReq"
   ]
  },
  {
   "cell_type": "code",
   "execution_count": 22,
   "metadata": {},
   "outputs": [],
   "source": [
    "my_url=\"https://www.roomandboard.com/catalog/bath/vanities\"\n",
    "\n",
    "uClient=uReq(my_url)\n",
    "page_html=uClient.read()\n",
    "uClient.close()\n",
    "\n",
    "page_soup=soup(page_html,\"html.parser\")\n",
    "containers=page_soup.findAll(\"div\",{\"class\":\"product-group small-6 medium-4 large-4 columns\"})\n",
    "\n"
   ]
  },
  {
   "cell_type": "code",
   "execution_count": 23,
   "metadata": {},
   "outputs": [],
   "source": [
    "\n",
    "container=containers[0]\n",
    "Name_div=container.find(\"div\",{\"class\":\"pg-name\"})\n",
    "Price_div=container.find(\"div\",{\"class\":\"pg-price-range\"})\n"
   ]
  },
  {
   "cell_type": "code",
   "execution_count": 24,
   "metadata": {},
   "outputs": [
    {
     "data": {
      "text/plain": [
       "21"
      ]
     },
     "execution_count": 24,
     "metadata": {},
     "output_type": "execute_result"
    }
   ],
   "source": [
    "filename=\"Scraping_details.csv\"\n",
    "f=open(filename,\"w\")\n",
    "\n",
    "headers=\"Product_Name , Price\\n\"\n",
    "f.write(headers)"
   ]
  },
  {
   "cell_type": "code",
   "execution_count": 25,
   "metadata": {},
   "outputs": [
    {
     "name": "stdout",
     "output_type": "stream",
     "text": [
      "Linear Bathroom Vanity Cabinets with Shelf and Top,$1,499 - $3,599\n",
      "\n",
      "Berkeley Bathroom Vanity Cabinets with Top,$1,599 - $3,799\n",
      "\n",
      "Linear Steel Base Bathroom Vanity Cabinets with Top,$1,499 - $3,599\n",
      "\n",
      "Berkeley Bathroom Vanity Cabinets,$999 - $2,299\n",
      "\n",
      "Kenwood Bathroom Vanity Cabinets with Top,$1,699 - $4,499\n",
      "\n",
      "Adrian Bathroom Vanity Cabinets with Top,$1,599 - $3,999\n",
      "\n",
      "Hudson Bathroom Vanity Cabinets with Top,$1,899 - $4,499\n",
      "\n",
      "Linear Wood Base Bathroom Vanity Cabinets with Top,$1,299 - $3,299\n",
      "\n",
      "Linear Bathroom Vanity Cabinets with Shelf,$899 - $2,099\n",
      "\n",
      "Copenhagen Bathroom Vanity Cabinets with Top,$1,499 - $3,599\n",
      "\n",
      "Adrian Bathroom Vanity Cabinets,$999 - $2,499\n",
      "\n",
      "Linear Steel Base Bathroom Vanity Cabinets,$899 - $2,099\n",
      "\n",
      "Hudson Bathroom Vanity Cabinets,$1,299 - $2,999\n",
      "\n",
      "Linear Wood Base Bathroom Vanity Cabinets,$699 - $1,799\n",
      "\n",
      "Kenwood Bathroom Vanity Cabinets,$1,099 - $2,999\n",
      "\n",
      "Copenhagen Bathroom Vanity Cabinets,$899 - $2,099\n",
      "\n",
      "Pratt Bathroom Vanity Bases with Top,$1,599 - $2,599\n",
      "\n",
      "Pratt Bathroom Vanity Bases,$699 - $899\n",
      "\n",
      "Portica Bathroom Vanity Bases with Top,$1,599 - $2,599\n",
      "\n",
      "Portica Bathroom Vanity Bases,$699 - $899\n",
      "\n"
     ]
    }
   ],
   "source": [
    "for container in containers:\n",
    "    Name_div=container.find(\"div\",{\"class\":\"pg-name\"})\n",
    "    Product_Name=Name_div.text\n",
    "    #print(Product_Name)\n",
    "    \n",
    "    Price_div=container.find(\"div\",{\"class\":\"pg-price-range\"})\n",
    "    Price=Price_div.text.strip()    # strip function will remove unwanted space\n",
    "    \n",
    "    #print(Price)\n",
    "    print(Product_Name + \",\"+ Price + \"\\n\")   # \"\\n\" fro the space between two line\n",
    "    f.write(Product_Name + \",\"+ Price + \"\\n\")\n",
    "    \n",
    "\n",
    "f.close()\n",
    "    "
   ]
  },
  {
   "cell_type": "code",
   "execution_count": 13,
   "metadata": {},
   "outputs": [
    {
     "ename": "SyntaxError",
     "evalue": "invalid syntax (<ipython-input-13-40b854a597f8>, line 4)",
     "output_type": "error",
     "traceback": [
      "\u001b[1;36m  File \u001b[1;32m\"<ipython-input-13-40b854a597f8>\"\u001b[1;36m, line \u001b[1;32m4\u001b[0m\n\u001b[1;33m    print i.getText()\u001b[0m\n\u001b[1;37m          ^\u001b[0m\n\u001b[1;31mSyntaxError\u001b[0m\u001b[1;31m:\u001b[0m invalid syntax\n"
     ]
    }
   ],
   "source": [
    "for tag in containers:\n",
    "    for tag in li:\n",
    "        for i in tag.find_all(\"div\", {\"class\": \"pg-name\"}):\n",
    "            print i.getText()\n",
    "            break\n",
    "\n",
    "        for i in tag.find_all(\"div\", {\"class\": \"pg-price-range\"}):\n",
    "            print i.getText()\n",
    "            break\n",
    "\n",
    "       "
   ]
  },
  {
   "cell_type": "code",
   "execution_count": null,
   "metadata": {},
   "outputs": [],
   "source": []
  }
 ],
 "metadata": {
  "kernelspec": {
   "display_name": "Python 3",
   "language": "python",
   "name": "python3"
  },
  "language_info": {
   "codemirror_mode": {
    "name": "ipython",
    "version": 3
   },
   "file_extension": ".py",
   "mimetype": "text/x-python",
   "name": "python",
   "nbconvert_exporter": "python",
   "pygments_lexer": "ipython3",
   "version": "3.6.5"
  }
 },
 "nbformat": 4,
 "nbformat_minor": 4
}
